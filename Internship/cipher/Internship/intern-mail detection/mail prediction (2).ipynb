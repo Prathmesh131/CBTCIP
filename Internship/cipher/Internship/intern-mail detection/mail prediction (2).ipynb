{
 "cells": [
  {
   "cell_type": "code",
   "execution_count": null,
   "id": "3a2f618b-c30e-4e15-918d-f1ba2d361ad8",
   "metadata": {},
   "outputs": [
    {
     "ename": "",
     "evalue": "",
     "output_type": "error",
     "traceback": [
      "\u001b[1;31mRunning cells with 'Python 3.10.11' requires the ipykernel package.\n",
      "\u001b[1;31mRun the following command to install 'ipykernel' into the Python environment. \n",
      "\u001b[1;31mCommand: '\"c:/Users/Prathmesh Bhujbal/AppData/Local/Microsoft/WindowsApps/python3.10.exe\" -m pip install ipykernel -U --user --force-reinstall'"
     ]
    }
   ],
   "source": [
    "import numpy as np\n",
    "import pandas as pd\n",
    "from sklearn.model_selection import train_test_split\n",
    "from sklearn.feature_extraction.text import TfidfVectorizer\n",
    "from sklearn.linear_model import LogisticRegression\n",
    "from sklearn.metrics import accuracy_score"
   ]
  },
  {
   "cell_type": "markdown",
   "id": "c7d06263-fe3e-459d-8914-b7e3f13e5dd6",
   "metadata": {},
   "source": [
    "Data Collection and Pre-Processing"
   ]
  },
  {
   "cell_type": "code",
   "execution_count": 25,
   "id": "2c1d6866-a3f0-41e6-be20-6d5561af19ef",
   "metadata": {},
   "outputs": [],
   "source": [
    "# loading the data from csv file to a pandas Dataframe\n",
    "raw_mail_data = pd.read_csv(r\"C:\\Users\\ADMIN\\Downloads\\Spam Email Detection - spam.csv\")"
   ]
  },
  {
   "cell_type": "code",
   "execution_count": null,
   "id": "07f22835-a037-46e7-874b-35f59d985960",
   "metadata": {},
   "outputs": [],
   "source": [
    "print(raw_mail_data)"
   ]
  },
  {
   "cell_type": "code",
   "execution_count": 27,
   "id": "b779393d-d1b1-4bb3-b44e-17c0aa001241",
   "metadata": {},
   "outputs": [],
   "source": [
    "# replace the null values with a null strings\n",
    "mail_data = raw_mail_data.where((pd.notnull(raw_mail_data)),'')"
   ]
  },
  {
   "cell_type": "code",
   "execution_count": null,
   "id": "22a8e619-0e90-4b5b-87b6-91ccd92412e4",
   "metadata": {},
   "outputs": [],
   "source": [
    "# printing the first 5 row of the dataframe\n",
    "mail_data.head()"
   ]
  },
  {
   "cell_type": "code",
   "execution_count": null,
   "id": "7841483a-b997-4b80-a84b-81b808be3786",
   "metadata": {},
   "outputs": [],
   "source": [
    "# checking the numbers of rows and columns in the dataframe\n",
    "mail_data.shape"
   ]
  },
  {
   "cell_type": "markdown",
   "id": "6e423f69-c2be-44cd-8ffe-6572cf1bcc42",
   "metadata": {},
   "source": [
    "Label encoding "
   ]
  },
  {
   "cell_type": "code",
   "execution_count": 30,
   "id": "714200c4-41c6-436d-ac4e-81fa7472e77f",
   "metadata": {},
   "outputs": [],
   "source": [
    "# label spam mail as 0; ham mail as 1;\n",
    "\n",
    "mail_data.loc[mail_data['v1'] == 'spam', 'v1',] = 0\n",
    "mail_data.loc[mail_data['v1'] == 'ham', 'v1',] = 1"
   ]
  },
  {
   "cell_type": "markdown",
   "id": "d3704273-e7b5-46f5-af22-8b62ff517870",
   "metadata": {},
   "source": [
    "spam-0\n",
    "ham-1"
   ]
  },
  {
   "cell_type": "code",
   "execution_count": 31,
   "id": "3d372302-9b85-41df-9310-2611e56270eb",
   "metadata": {},
   "outputs": [],
   "source": [
    "# seperating the data as texts and label\n",
    "\n",
    "X = mail_data['v2']\n",
    "\n",
    "Y = mail_data['v1']"
   ]
  },
  {
   "cell_type": "code",
   "execution_count": null,
   "id": "1829d62c-0d06-44b7-80cb-9a645b5eef2d",
   "metadata": {},
   "outputs": [],
   "source": [
    "print(X)"
   ]
  },
  {
   "cell_type": "code",
   "execution_count": null,
   "id": "6e40eea6-6b58-45d9-bc51-51f5e1a0fcdc",
   "metadata": {},
   "outputs": [],
   "source": [
    "print(Y)"
   ]
  },
  {
   "cell_type": "markdown",
   "id": "b9e43823-220e-4422-82e8-98dcdbe11d5a",
   "metadata": {},
   "source": [
    "Splitting the data into training data & test data "
   ]
  },
  {
   "cell_type": "code",
   "execution_count": 34,
   "id": "2552bc37-d31b-42e4-bc63-f96c64b91607",
   "metadata": {},
   "outputs": [],
   "source": [
    "X_train, X_test, Y_train, Y_test = train_test_split(X, Y, test_size=0.3, random_state=3)"
   ]
  },
  {
   "cell_type": "code",
   "execution_count": null,
   "id": "c1a4f73a-c05e-4a8a-a913-fe42ddc59523",
   "metadata": {},
   "outputs": [],
   "source": [
    "print(X.shape)\n",
    "print(X_train.shape)\n",
    "print(X_test.shape)"
   ]
  },
  {
   "cell_type": "markdown",
   "id": "b9226f98-7026-4029-b1c4-f4acdc09a836",
   "metadata": {},
   "source": [
    "Feature extraction"
   ]
  },
  {
   "cell_type": "code",
   "execution_count": 36,
   "id": "faa84153-519c-4e93-a0a5-a1b08f593897",
   "metadata": {},
   "outputs": [],
   "source": [
    "# transform the text data to feature vectors that can be used as input to the logistic regression \n",
    "\n",
    "feature_extraction = TfidfVectorizer(min_df=1, stop_words='english', lowercase=True)\n",
    "\n",
    "# Fit and transform the training data\n",
    "X_train_features = feature_extraction.fit_transform(X_train)\n",
    "\n",
    "# Transform the test data\n",
    "X_test_features = feature_extraction.transform(X_test)\n",
    "\n",
    "# Convert Y_train and Y_test values as integers if needed\n",
    "Y_train = Y_train.astype('int')\n",
    "Y_test = Y_test.astype('int')"
   ]
  },
  {
   "cell_type": "code",
   "execution_count": null,
   "id": "6f9b9d2b-cc6a-4927-b62b-5afdf49f4b41",
   "metadata": {},
   "outputs": [],
   "source": [
    "print(X_train_features)"
   ]
  },
  {
   "cell_type": "markdown",
   "id": "e77864c0-6525-4d01-9535-257886ea891a",
   "metadata": {},
   "source": [
    "Training the model "
   ]
  },
  {
   "cell_type": "markdown",
   "id": "865de3d8-b503-4203-80cc-40cbfba0a2ff",
   "metadata": {},
   "source": [
    "Logistic Regression"
   ]
  },
  {
   "cell_type": "code",
   "execution_count": 38,
   "id": "91f6a689-e7e9-4e06-882f-c871930b8a8a",
   "metadata": {},
   "outputs": [],
   "source": [
    "model = LogisticRegression()"
   ]
  },
  {
   "cell_type": "code",
   "execution_count": null,
   "id": "5a8e1fc1-594d-42e6-84f3-d4032bbfab17",
   "metadata": {},
   "outputs": [],
   "source": [
    "# training the Logistic Regression model with the training data\n",
    "model.fit(X_train_features, Y_train)"
   ]
  },
  {
   "cell_type": "markdown",
   "id": "181ff927-6b56-4a38-a15f-3204ac9c3fe0",
   "metadata": {},
   "source": [
    "Evaluating the trained model "
   ]
  },
  {
   "cell_type": "code",
   "execution_count": 40,
   "id": "1229be39-fe38-4b30-b057-bec0cec77ca0",
   "metadata": {},
   "outputs": [],
   "source": [
    "# prediction on training data \n",
    "prediction_on_training_data = model.predict(X_train_features)\n",
    "accuracy_on_training_data = accuracy_score(Y_train, prediction_on_training_data)"
   ]
  },
  {
   "cell_type": "code",
   "execution_count": null,
   "id": "72ea140d-1cd9-4940-8532-437f78510310",
   "metadata": {},
   "outputs": [],
   "source": [
    "print('Accuracy on training data : ', accuracy_on_training_data)"
   ]
  },
  {
   "cell_type": "code",
   "execution_count": 42,
   "id": "565c9694-94e7-4b70-a92c-5e229de04189",
   "metadata": {},
   "outputs": [],
   "source": [
    "# prediction on test data \n",
    "prediction_on_test_data = model.predict(X_test_features)\n",
    "accuracy_on_test_data = accuracy_score(Y_test, prediction_on_test_data)"
   ]
  },
  {
   "cell_type": "code",
   "execution_count": null,
   "id": "174c7a95-0295-4e2f-949b-e28ec823c961",
   "metadata": {},
   "outputs": [],
   "source": [
    "print('Accuracy on test data : ', accuracy_on_test_data)"
   ]
  },
  {
   "cell_type": "markdown",
   "id": "c061cad2-2519-4719-b67b-67365b8ba984",
   "metadata": {},
   "source": [
    "Building a Predictive System "
   ]
  },
  {
   "cell_type": "code",
   "execution_count": null,
   "id": "8d0cf50b-bed3-4886-bdef-3125990df6c7",
   "metadata": {},
   "outputs": [],
   "source": [
    "input_mail = [\"I'm gonna be home soon and i don't want to talk about this stuff anymore tonight, k? I've cried enough today.\"]\n",
    "\n",
    "# Convert text to feature vectors \n",
    "input_data_features = feature_extraction.transform(input_mail)\n",
    "\n",
    "# making prediction\n",
    "prediction = model.predict(input_data_features)\n",
    "\n",
    "print(prediction)\n",
    "\n",
    "if (prediction[0]==1):\n",
    "    print('Ham mail')\n",
    "\n",
    "else:\n",
    "    print('Spam mail')"
   ]
  },
  {
   "cell_type": "code",
   "execution_count": 46,
   "id": "c72f31df-7736-45a0-a776-73447aeb73f9",
   "metadata": {},
   "outputs": [],
   "source": [
    "import pickle\n",
    "with open('spam_classifier_model.pkl', 'wb') as model_file:\n",
    "    pickle.dump(model, model_file)\n",
    "with open('tfidf_vectorizer.pkl', 'wb') as vectorizer_file:\n",
    "    pickle.dump(feature_extraction, vectorizer_file)\n"
   ]
  },
  {
   "cell_type": "code",
   "execution_count": null,
   "id": "baeac184-c673-481a-816c-bb753dd76fae",
   "metadata": {},
   "outputs": [],
   "source": []
  }
 ],
 "metadata": {
  "kernelspec": {
   "display_name": "Python 3",
   "language": "python",
   "name": "python3"
  },
  "language_info": {
   "codemirror_mode": {
    "name": "ipython",
    "version": 3
   },
   "file_extension": ".py",
   "mimetype": "text/x-python",
   "name": "python",
   "nbconvert_exporter": "python",
   "pygments_lexer": "ipython3",
   "version": "3.10.11"
  }
 },
 "nbformat": 4,
 "nbformat_minor": 5
}
